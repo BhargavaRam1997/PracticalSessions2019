{
  "nbformat": 4,
  "nbformat_minor": 0,
  "metadata": {
    "colab": {
      "name": "BLR 2019.ipynb",
      "version": "0.3.2",
      "provenance": [],
      "collapsed_sections": []
    },
    "kernelspec": {
      "name": "python2",
      "display_name": "Python 2"
    }
  },
  "cells": [
    {
      "cell_type": "markdown",
      "metadata": {
        "id": "qP69ddGg42Df",
        "colab_type": "text"
      },
      "source": [
        "# Bayesian Logistic Regression\n",
        "\n",
        "Contact: mihaelacr@google.com\n",
        "\n",
        "Aim of this colab:\n",
        "Logistic regression with a twist! We will use variational inference to learn a distribution over the learned parameters.\n",
        "\n",
        "Througout this work we will be focusing on a binary classification task, on \n",
        "a small dataset (the UCD breast cancer dataset). \n",
        "\n",
        "Check out the slides for this colab [here](https://github.com/eeml2019/PracticalSessions/tree/master/unsupervised).\n",
        "\n",
        "## Logistic regression\n",
        "\n",
        "Learn the weights which best classify the $(x, y)$ pairs in the dataset. \n",
        "The weights are learned via the following maximization problem:\n",
        "\n",
        "\\begin{equation}\n",
        "\\mathbb{E}_{p^*(x, y)} \\log p(y|x, w) = \\\\\n",
        " \\mathbb{E}_{p^*(x, y)} \\left[y \\log \\sigma(w x + b) + (1 - y) \\log(1- \\sigma(w x + b)\\right] \n",
        "\\end{equation}\n",
        "\n",
        "Here $\\sigma$ denotes the sigmoid function.\n",
        "\n",
        "## Bayesian logistic regression\n",
        "\n",
        "Learn a distribution over the weights which best classify the $(x, y)$ pairs in the dataset.\n",
        "\n",
        "We now want to learn the distributional parameters of $q(w)$ in order to maximize:\n",
        "\n",
        "\\begin{equation}\n",
        "\\mathbb{E}_{p^*(x, y)} \\log p_w(y| x) = \\\\\n",
        "\\mathbb{E}_{p^*(x, y)} \\log \\int p(y|x, w) p(w) \\delta w = \\\\\n",
        "\\mathbb{E}_{p^*(x, y)} \\log \\int p(y|x, w) p(w) \\frac{q(w)}{q(w)} \\delta w \\ge \\\\\n",
        "\\mathbb{E}_{p^*(x, y)} \\mathbb{E}_{q(w)} \\log \\left[p(y| x, w) \\frac{p(w)}{q(w)} \\right]= \\\\\n",
        "\\mathbb{E}_{q(w)} \\mathbb{E}_{p^*(x, y)} \\log p(y|x, w)  -  KL(q(w)||p(w)) = \\\\\n",
        " \\mathbb{E}_{q(w)}\\mathbb{E}_{p^*(x, y)} \\left[y \\log \\sigma(w x + b) + (1 - y) \\log(1- \\sigma(w x + b)\\right] -  KL(q(w)||p(w))\n",
        "\\end{equation}\n",
        "\n",
        "In Bayesian Logistic Regression, we thus learn a distribution over parameters\n",
        "$w$ which can explain the data, while staying close to a chosen prior $p(w)$.\n",
        "\n",
        "Throughout this lab, we will use Gaussian Distributions for $p(w)$ and $q(w)$.\n",
        "\n",
        "For more details, see \n",
        "[this paper](https://pdfs.semanticscholar.org/e407/ea7fda6d152d2186f4b5e27aa04ec2d32dcd.pdf) or \n",
        "[this tutorial](https://www.ece.rice.edu/~vc3/elec633/logistic.pdf).\n",
        "\n",
        "### Gradient estimation\n",
        "\n",
        "In Bayesian Logistic Regression, we aim to learn the parameters of the distribution $q(w)$. We will call these parameters $\\theta$. In the case of a \n",
        "Gaussian distribution, these will be the mean and covariance matrix of a\n",
        "multivariate distribution. Since we will use stochastic gradient descent to learn $\\theta$, we need to be able to compute the gradients with respect to \n",
        "$\\theta$ of our objective. Since our objective contains an expectation with respect to $q(w)$, this can be challenging. To illustrate this, from now on we will denote $q(w)$ as $q_{\\theta}(w)$.\n",
        "\n",
        "Specifically, we are interested in:\n",
        "\\begin{equation}\n",
        "  \\nabla_{\\theta} \\left[\\mathbb{E}_{q_{\\theta}(w)} \\mathbb{E}_{p^*(x, y)} \\log p(y|x, w)  -  KL(q_{\\theta}(w)||p(w))\\right]\n",
        "\\end{equation}\n",
        "\n",
        "Since in we will be using Gaussian distributions for $q_{\\theta}(w)$ and $p(w)$ \n",
        "$KL(q_{\\theta}(w)||p(w))$ can be computed in closed form and we can rely on \n",
        "TensorFlow's automatic differentiation to compute \n",
        "$\\nabla_{\\theta} KL(q_{\\theta}(w)||p(w))$.\n",
        "\n",
        "Let's now turn attention to computing $\\nabla_{\\theta} \\mathbb{E}_{q_{\\theta}(w)} \\mathbb{E}_{p^*(x, y)} \\log p(y| x, w)$. Unlike the KL, the integral \n",
        "$\\mathbb{E}_{q_{\\theta}(w)} \\mathbb{E}_{p^*(x, y)} \\log p(y|x, w)$\n",
        "is not tractable, and thus cannot be computed in closed form. Thus, we are interested in other approaches to compute the gradient.\n",
        "\n",
        "### Reinforce gradient estimation\n",
        "\n",
        "A first approach to compute an estimate of the gradient is to use the\n",
        "REINFORCE gradient estimator:\n",
        "\n",
        "\\begin{equation}\n",
        "  \\nabla_{\\theta} \\mathbb{E}_{q_{\\theta}(w)} \\mathbb{E}_{p^*(x, y)} \\log p(y| x, w)  = \\\\\n",
        "  \\nabla_{\\theta} \\int q_{\\theta}(w) \\mathbb{E}_{p^*(x, y)} \\log p(y| x, w) \\delta w = \\\\\n",
        "  \\int \\nabla_{\\theta} \\left[q_{\\theta}(w) \\mathbb{E}_{p^*(x, y)} \\log p(y| x, w) \\right] \\delta w = \\\\\n",
        " \\int \\nabla_{\\theta} \\left[q_{\\theta}(w)\\right] \\mathbb{E}_{p^*(x, y)} \\log p(y| x, w) \\delta w = \\\\\n",
        " \\int q_{\\theta}(w) \\nabla_{\\theta} \\left[\\log q_{\\theta}(w)\\right] \\mathbb{E}_{p^*(x, y)} \\log p(y| x, w)  \\delta w = \\\\\n",
        " \\mathbb{E}_{q_{\\theta}(w)} \\left[ \\nabla_{\\theta} \\log q_{\\theta}(w) \\mathbb{E}_{p^*(x, y)} \\log p(y| x, w) \\right]\n",
        "\\end{equation}\n",
        "\n",
        "We can use samples from $q_{\\theta}(w)$ to compute the Monte Carlo estimate of\n",
        "the last integral, to get an unbiased estimator of the true gradient. The more \n",
        "samples we use to estimate the integral, the more accurate the gradient estimate\n",
        "will be.\n",
        "\n",
        "\n",
        "### Pathwise gradient estimation (reparametrization)\n",
        "\n",
        "In the REINFORCE estimator, we did not use any knowledge of the variational\n",
        "distribution $q_{\\theta}(w)$.\n",
        "For a Gaussian distribution, we can use the reparametrization trick to obtain\n",
        "an unbiased gradient estimator of  $\\nabla_{\\theta} \\mathbb{E}_{q_{\\theta}(w)} \\mathbb{E}_{p^*(x, y)} \\log p(y| x, w)$.\n",
        "\n",
        "To do so, we will use the fact that \n",
        "\\begin{equation}\n",
        "    z \\sim N(\\mu, \\sigma), z = \\mu + \\epsilon \\sigma, {\\text {with }} \\epsilon \\sim N(0, 1)\n",
        "\\end{equation}\n",
        "\n",
        "Namely:\n",
        "\\begin{equation}\n",
        "  \\nabla_{\\theta} \\mathbb{E}_{q_{\\theta}(w)} \\mathbb{E}_{p^*(x, y)} \\log p(y| x, w)  = \\\\\n",
        "  \\nabla_{\\theta} \\mathbb{E}_{p(\\epsilon)} \\mathbb{E}_{p^*(x, y)} \\log p(y| x, \\mu + \\epsilon \\sigma)  = \\\\\n",
        "  \\mathbb{E}_{p(\\epsilon)} \\nabla_{\\theta} \\mathbb{E}_{p^*(x, y)} \\log p(y| x, \\mu + \\epsilon \\sigma)\n",
        "\\end{equation}\n",
        "\n",
        "Note that we were able to move the gradient inside the integral since \n",
        "$p(\\epsilon)$ does not depend on $\\theta$.\n",
        "To estimate the last integral, we can use a Monte Carlo estimate using samples\n",
        "of $p(\\epsilon)$.\n"
      ]
    },
    {
      "cell_type": "code",
      "metadata": {
        "id": "FH8xRXJVy-be",
        "colab_type": "code",
        "colab": {}
      },
      "source": [
        "import enum\n",
        "import numpy as np\n",
        "\n",
        "import math\n",
        "from sklearn import datasets\n",
        "from sklearn import linear_model\n",
        "import collections\n",
        "\n",
        "from matplotlib import pyplot as plt\n",
        "import tensorflow as tf\n",
        "import tensorflow_probability as tfp\n",
        "import seaborn as sns\n",
        "\n",
        "tfd = tfp.distributions\n"
      ],
      "execution_count": 0,
      "outputs": []
    },
    {
      "cell_type": "code",
      "metadata": {
        "id": "JD97evxTyirI",
        "colab_type": "code",
        "colab": {}
      },
      "source": [
        "sns.set(rc={\"lines.linewidth\": 2.8}, font_scale=2)\n",
        "sns.set_style(\"whitegrid\")"
      ],
      "execution_count": 0,
      "outputs": []
    },
    {
      "cell_type": "markdown",
      "metadata": {
        "id": "WhV6gBY_zRzC",
        "colab_type": "text"
      },
      "source": [
        "## Get the dataset and visualize it"
      ]
    },
    {
      "cell_type": "code",
      "metadata": {
        "id": "dzrvgE3e4lX1",
        "colab_type": "code",
        "colab": {}
      },
      "source": [
        "def get_data(normalize=True):\n",
        "    data = datasets.load_breast_cancer()\n",
        "\n",
        "    print(data.target_names)\n",
        "    print(data.feature_names)\n",
        "\n",
        "    features = np.array(data.data, dtype=np.float32)\n",
        "    targets = np.array(data.target, dtype=np.float32)\n",
        "\n",
        "    if normalize:\n",
        "        # Note: the data dimensions have very different scales.\n",
        "        # We normalize by the mean and scale of the entire dataset.\n",
        "        features = features - features.mean(axis=0)\n",
        "        features = features / features.std(axis=0)\n",
        "\n",
        "    # Add a dimension of 1 (bias).\n",
        "    features = np.concatenate((features, np.ones((features.shape[0], 1))), axis=1)\n",
        "    features = np.array(features, dtype=np.float32)\n",
        "  \n",
        "    return features, targets, data.feature_names"
      ],
      "execution_count": 0,
      "outputs": []
    },
    {
      "cell_type": "markdown",
      "metadata": {
        "id": "44Jrompq1iTY",
        "colab_type": "text"
      },
      "source": [
        "### Dataset\n",
        "\n",
        "This datasets has meaningful features: we are trying to classify based on these features whether someone has breast cancer or not. We can look at the\n",
        "features we are using to classify the data below.\n"
      ]
    },
    {
      "cell_type": "code",
      "metadata": {
        "id": "KgQ8-mnH4pTT",
        "colab_type": "code",
        "outputId": "8e70612c-69a1-4b64-db4c-484f4321b8c4",
        "colab": {
          "base_uri": "https://localhost:8080/",
          "height": 191
        }
      },
      "source": [
        "features, targets, feature_names = get_data()"
      ],
      "execution_count": 0,
      "outputs": [
        {
          "output_type": "stream",
          "text": [
            "['malignant' 'benign']\n",
            "['mean radius' 'mean texture' 'mean perimeter' 'mean area'\n",
            " 'mean smoothness' 'mean compactness' 'mean concavity'\n",
            " 'mean concave points' 'mean symmetry' 'mean fractal dimension'\n",
            " 'radius error' 'texture error' 'perimeter error' 'area error'\n",
            " 'smoothness error' 'compactness error' 'concavity error'\n",
            " 'concave points error' 'symmetry error' 'fractal dimension error'\n",
            " 'worst radius' 'worst texture' 'worst perimeter' 'worst area'\n",
            " 'worst smoothness' 'worst compactness' 'worst concavity'\n",
            " 'worst concave points' 'worst symmetry' 'worst fractal dimension']\n"
          ],
          "name": "stdout"
        }
      ]
    },
    {
      "cell_type": "markdown",
      "metadata": {
        "id": "OXDbcOfl1P1J",
        "colab_type": "text"
      },
      "source": [
        "### Trivial baseline\n",
        "\n",
        "How well can we do with a constant classifier?\n",
        "\n",
        "If we look at the average label, we can see how many 1s are in the data, so we know that our classifier has to get more than that accuracy"
      ]
    },
    {
      "cell_type": "code",
      "metadata": {
        "id": "_9iwLLowE4z8",
        "colab_type": "code",
        "outputId": "86fa9fa2-28f8-463d-c368-ed6e8907f6c3",
        "colab": {
          "base_uri": "https://localhost:8080/",
          "height": 35
        }
      },
      "source": [
        "np.mean(targets)"
      ],
      "execution_count": 0,
      "outputs": [
        {
          "output_type": "execute_result",
          "data": {
            "text/plain": [
              "0.6274165"
            ]
          },
          "metadata": {
            "tags": []
          },
          "execution_count": 48
        }
      ]
    },
    {
      "cell_type": "code",
      "metadata": {
        "id": "aA8nn2zy64F3",
        "colab_type": "code",
        "outputId": "92234f92-b932-4c22-dbcc-2f89b2993720",
        "colab": {
          "base_uri": "https://localhost:8080/",
          "height": 35
        }
      },
      "source": [
        "features.shape"
      ],
      "execution_count": 0,
      "outputs": [
        {
          "output_type": "execute_result",
          "data": {
            "text/plain": [
              "(569, 31)"
            ]
          },
          "metadata": {
            "tags": []
          },
          "execution_count": 49
        }
      ]
    },
    {
      "cell_type": "code",
      "metadata": {
        "id": "TwJmx4bR5ooL",
        "colab_type": "code",
        "colab": {}
      },
      "source": [
        "dataset_size = features.shape[0]\n",
        "data_dims = features.shape[-1]"
      ],
      "execution_count": 0,
      "outputs": []
    },
    {
      "cell_type": "markdown",
      "metadata": {
        "id": "JzVQ6Z7szaqY",
        "colab_type": "text"
      },
      "source": [
        "## Logistic regression baseline - how well can we do on this dataset?\n",
        "\n",
        "Let's look at a simple, non Bayesian classification approach to get an idea of how well we can do on the dataset. "
      ]
    },
    {
      "cell_type": "code",
      "metadata": {
        "id": "Eft7ZXm64k_V",
        "colab_type": "code",
        "colab": {}
      },
      "source": [
        "lr = linear_model.LogisticRegression()"
      ],
      "execution_count": 0,
      "outputs": []
    },
    {
      "cell_type": "code",
      "metadata": {
        "id": "Lt9jDrhC4vYY",
        "colab_type": "code",
        "outputId": "1fbf40f8-9783-40ba-865f-881030441e74",
        "colab": {
          "base_uri": "https://localhost:8080/",
          "height": 35
        }
      },
      "source": [
        "lr.fit(features, targets)\n",
        "lr.score(features, targets)"
      ],
      "execution_count": 0,
      "outputs": [
        {
          "output_type": "execute_result",
          "data": {
            "text/plain": [
              "0.9876977152899824"
            ]
          },
          "metadata": {
            "tags": []
          },
          "execution_count": 52
        }
      ]
    },
    {
      "cell_type": "markdown",
      "metadata": {
        "id": "jv5OaALJ0mnB",
        "colab_type": "text"
      },
      "source": [
        "## Utilities"
      ]
    },
    {
      "cell_type": "code",
      "metadata": {
        "id": "th2ZTE8S0ooa",
        "colab_type": "code",
        "colab": {}
      },
      "source": [
        "def get_shape_list(tensor):\n",
        "  return tensor.shape.as_list()"
      ],
      "execution_count": 0,
      "outputs": []
    },
    {
      "cell_type": "code",
      "metadata": {
        "id": "3D0d_XbW1a9I",
        "colab_type": "code",
        "colab": {}
      },
      "source": [
        "def get_sklearn_data_as_tensors(\n",
        "      features, targets, batch_size, dataset_name='breast_cancer'):\n",
        "  \"\"\"Read sklearn datasets as tf.Tensors.\n",
        "\n",
        "  Args:\n",
        "    batch_size: Integer or None. If None, the entire dataset is used.\n",
        "    dataset_name: A string, the name of the dataset.\n",
        "\n",
        "  Returns:\n",
        "    A tuple of size two containing two tensors of rank 2 `[B, F]`, the data\n",
        "    features and targets.\n",
        "  \"\"\"\n",
        "  dataset = tf.data.Dataset.from_tensor_slices((features, targets))\n",
        "  if batch_size:\n",
        "    # Shuffle, repeat, and batch the examples.\n",
        "    batched_dataset = dataset.shuffle(1000).repeat().batch(batch_size)\n",
        "  else:\n",
        "    batch_size = features.shape[0]\n",
        "    batched_dataset = dataset.repeat().batch(batch_size)\n",
        "\n",
        "  iterator = batched_dataset.make_one_shot_iterator()\n",
        "  batch_features, batch_targets = iterator.get_next()\n",
        "\n",
        "  data_dim = features.shape[1]\n",
        "  batch_features.set_shape([batch_size, data_dim])\n",
        "  batch_targets.set_shape([batch_size])\n",
        "\n",
        "  return batch_features, batch_targets"
      ],
      "execution_count": 0,
      "outputs": []
    },
    {
      "cell_type": "markdown",
      "metadata": {
        "id": "pd923omSze8D",
        "colab_type": "text"
      },
      "source": [
        "## Bayesian Logistic Regression - define the prior and the posterior\n",
        "\n",
        "We will learn a distribution over parameters, so we will first define prior distribution, and then a posterior distribution over parameters which we \n",
        "will learn.\n",
        "\n",
        "Both of these distibutions will be Gaussian."
      ]
    },
    {
      "cell_type": "code",
      "metadata": {
        "id": "Iugzul802iEC",
        "colab_type": "code",
        "colab": {}
      },
      "source": [
        "def multi_normal(loc, log_scale):\n",
        "  scale = tf.exp(log_scale)\n",
        "  return tfd.MultivariateNormalDiag(loc=loc, scale_diag=scale)\n",
        "\n",
        "def diagonal_gaussian_posterior(data_dims):\n",
        "  mean = tf.Variable(\n",
        "      tf.zeros(shape=(data_dims), dtype=tf.float32), name='mean')\n",
        "  log_scale = tf.Variable(\n",
        "      tf.zeros(shape=(data_dims), dtype=tf.float32),\n",
        "      name='log_scale')\n",
        "  learned_vars = [mean, log_scale]\n",
        "  return multi_normal(loc=mean, log_scale=log_scale), learned_vars"
      ],
      "execution_count": 0,
      "outputs": []
    },
    {
      "cell_type": "markdown",
      "metadata": {
        "id": "wJ80lrXNvDFi",
        "colab_type": "text"
      },
      "source": [
        "## Bayesian Logistic Regression - the model"
      ]
    },
    {
      "cell_type": "markdown",
      "metadata": {
        "id": "2v2PO8UC3qxi",
        "colab_type": "text"
      },
      "source": [
        "### Hypers"
      ]
    },
    {
      "cell_type": "code",
      "metadata": {
        "id": "Sg6V1IGO3r8p",
        "colab_type": "code",
        "colab": {}
      },
      "source": [
        "BATCH_SIZE = 500\n",
        "NUM_POSTERIOR_SAMPLES = 100"
      ],
      "execution_count": 0,
      "outputs": []
    },
    {
      "cell_type": "code",
      "metadata": {
        "id": "8AwA1Stfvbe_",
        "colab_type": "code",
        "colab": {}
      },
      "source": [
        "prior = multi_normal(loc=tf.zeros(data_dims), log_scale=tf.zeros(data_dims))\n",
        "posterior, learned_vars  = diagonal_gaussian_posterior(data_dims)"
      ],
      "execution_count": 0,
      "outputs": []
    },
    {
      "cell_type": "code",
      "metadata": {
        "id": "CpfxVpM00U2x",
        "colab_type": "code",
        "colab": {}
      },
      "source": [
        "features, targets = get_sklearn_data_as_tensors(features, targets, BATCH_SIZE)"
      ],
      "execution_count": 0,
      "outputs": []
    },
    {
      "cell_type": "code",
      "metadata": {
        "id": "DimyoNcuwmS9",
        "colab_type": "code",
        "colab": {}
      },
      "source": [
        "def _predictions(logits):\n",
        "  return tf.to_float(logits >= 0)\n",
        "\n",
        "def _accuracy(targets, predictions):\n",
        "  # `predictions` have rank 2: batch_size, num_posterior samples.\n",
        "  # We expand dims the targets to compute the accuracy per sample.\n",
        "  targets = tf.expand_dims(targets, axis=1)\n",
        "  return tf.reduce_mean(tf.to_float(tf.equal(targets, predictions)))\n",
        "\n",
        "def linear_model(data, targets, posterior_samples):\n",
        "  num_posterior_samples = tf.shape(posterior_samples)[0]\n",
        "  logits = tf.matmul(data, posterior_samples, transpose_b=True)\n",
        "  # Make targets [B, 1] to use broadcasting.\n",
        "  targets = tf.expand_dims(targets, axis=1)\n",
        "  targets = targets * tf.ones([1, num_posterior_samples])\n",
        "\n",
        "  log_probs = - tf.nn.sigmoid_cross_entropy_with_logits(\n",
        "      labels=targets, logits=logits)\n",
        "  return log_probs, logits"
      ],
      "execution_count": 0,
      "outputs": []
    },
    {
      "cell_type": "code",
      "metadata": {
        "id": "4_eDfavd0XJo",
        "colab_type": "code",
        "colab": {}
      },
      "source": [
        "def run_model(features, targets, prior, posterior, num_samples):\n",
        "  posterior_samples = posterior.sample(num_samples)\n",
        "\n",
        "  # Compute the log probs of the data under all the models we have sampled.\n",
        "  log_probs, logits = linear_model(features, targets, posterior_samples)\n",
        "  # Compute the KL.\n",
        "  kl = posterior.kl_divergence(prior)\n",
        "\n",
        "  # Sum over data.\n",
        "  param_log_probs = tf.reduce_mean(log_probs, axis=0) * dataset_size\n",
        "  param_log_probs.shape.assert_is_compatible_with([num_samples])\n",
        "\n",
        "  return param_log_probs, kl, posterior_samples, logits "
      ],
      "execution_count": 0,
      "outputs": []
    },
    {
      "cell_type": "code",
      "metadata": {
        "id": "vN5pWJrnwf4V",
        "colab_type": "code",
        "colab": {}
      },
      "source": [
        "param_log_probs, kl, posterior_samples, logits = run_model(\n",
        "      features, targets, prior, posterior, NUM_POSTERIOR_SAMPLES)\n",
        "predictions = _predictions(logits)\n",
        "accuracy = _accuracy(targets=targets, predictions=predictions)\n",
        "\n",
        "accuracy = tf.reduce_mean(accuracy)\n",
        "per_sample_elbo = param_log_probs - kl\n",
        "elbo = tf.reduce_mean(per_sample_elbo)"
      ],
      "execution_count": 0,
      "outputs": []
    },
    {
      "cell_type": "markdown",
      "metadata": {
        "id": "xfwdvB2l154M",
        "colab_type": "text"
      },
      "source": [
        "## Training loop"
      ]
    },
    {
      "cell_type": "markdown",
      "metadata": {
        "id": "d2bpGEYV5cj-",
        "colab_type": "text"
      },
      "source": [
        "## Training the model via reparametrization"
      ]
    },
    {
      "cell_type": "code",
      "metadata": {
        "id": "cZ-7BFe7M-iB",
        "colab_type": "code",
        "colab": {}
      },
      "source": [
        "# Stochastic loss depends on the output of a sampling operation  (posterior samples)\n",
        "# but tensorflow implements reparametrization by default.\n",
        "per_sample_reparametrization_loss = - per_sample_elbo\n",
        "reparametrization_loss = tf.reduce_mean(per_sample_reparametrization_loss)"
      ],
      "execution_count": 0,
      "outputs": []
    },
    {
      "cell_type": "code",
      "metadata": {
        "id": "UBLPB0rNNOZS",
        "colab_type": "code",
        "colab": {}
      },
      "source": [
        "optimizer = tf.train.GradientDescentOptimizer(0.0001)\n",
        "reparam_min_op = optimizer.minimize(reparametrization_loss)"
      ],
      "execution_count": 0,
      "outputs": []
    },
    {
      "cell_type": "code",
      "metadata": {
        "id": "IIlHWgFjNfez",
        "colab_type": "code",
        "colab": {}
      },
      "source": [
        "NUM_ITERATIONS = 1000"
      ],
      "execution_count": 0,
      "outputs": []
    },
    {
      "cell_type": "code",
      "metadata": {
        "id": "ArWZCPDRNXhP",
        "colab_type": "code",
        "outputId": "c76221a4-ef49-4694-8540-12845971419b",
        "colab": {
          "base_uri": "https://localhost:8080/",
          "height": 1000
        }
      },
      "source": [
        "sess = tf.Session()\n",
        "\n",
        "# Initialize all variables\n",
        "sess.run(tf.initialize_all_variables())\n",
        "\n",
        "reparam_accuracies = []\n",
        "reparam_kls = []\n",
        "reparam_elbos = []\n",
        "\n",
        "for i in xrange(NUM_ITERATIONS):\n",
        "  sess.run(reparam_min_op)\n",
        "\n",
        "  if i % 10 == 0:\n",
        "    reparam_acc, reparam_kl, reparam_elbo = sess.run([accuracy, kl, elbo])\n",
        "    reparam_accuracies += [reparam_acc]\n",
        "    reparam_kls += [reparam_kl]\n",
        "    reparam_elbos += [reparam_elbo]\n",
        "\n",
        "    print('Iteration {}. Elbo {}. KL {}'.format(\n",
        "        i, reparam_elbo, reparam_kl))\n",
        "\n",
        "reparam_learned_mean, reparam_learned_log_scale = sess.run(learned_vars)"
      ],
      "execution_count": 0,
      "outputs": [
        {
          "output_type": "stream",
          "text": [
            "Iteration 0. Elbo -1206.31604004. KL 0.00301633775234\n",
            "Iteration 10. Elbo -642.610412598. KL 0.293668031693\n",
            "Iteration 20. Elbo -577.772949219. KL 0.783629059792\n",
            "Iteration 30. Elbo -392.721923828. KL 1.2917201519\n",
            "Iteration 40. Elbo -351.349578857. KL 1.781883955\n",
            "Iteration 50. Elbo -306.663360596. KL 2.20695495605\n",
            "Iteration 60. Elbo -228.974685669. KL 2.57792901993\n",
            "Iteration 70. Elbo -234.82182312. KL 2.95425152779\n",
            "Iteration 80. Elbo -228.548690796. KL 3.29743432999\n",
            "Iteration 90. Elbo -196.769805908. KL 3.61361837387\n",
            "Iteration 100. Elbo -190.871459961. KL 3.9075319767\n",
            "Iteration 110. Elbo -220.950912476. KL 4.18836021423\n",
            "Iteration 120. Elbo -181.642272949. KL 4.45673751831\n",
            "Iteration 130. Elbo -163.075805664. KL 4.70559310913\n",
            "Iteration 140. Elbo -166.205795288. KL 4.96141529083\n",
            "Iteration 150. Elbo -161.878341675. KL 5.22007894516\n",
            "Iteration 160. Elbo -165.926605225. KL 5.44898462296\n",
            "Iteration 170. Elbo -158.645767212. KL 5.66910552979\n",
            "Iteration 180. Elbo -164.979400635. KL 5.88050985336\n",
            "Iteration 190. Elbo -144.492584229. KL 6.12092161179\n",
            "Iteration 200. Elbo -151.752105713. KL 6.33854484558\n",
            "Iteration 210. Elbo -165.249649048. KL 6.54486370087\n",
            "Iteration 220. Elbo -127.59765625. KL 6.73881149292\n",
            "Iteration 230. Elbo -119.381202698. KL 6.92593240738\n",
            "Iteration 240. Elbo -111.081077576. KL 7.11052560806\n",
            "Iteration 250. Elbo -115.483856201. KL 7.28692436218\n",
            "Iteration 260. Elbo -135.568496704. KL 7.45468378067\n",
            "Iteration 270. Elbo -126.830368042. KL 7.62879562378\n",
            "Iteration 280. Elbo -121.736724854. KL 7.79468870163\n",
            "Iteration 290. Elbo -120.828201294. KL 7.97476053238\n",
            "Iteration 300. Elbo -123.977989197. KL 8.13904094696\n",
            "Iteration 310. Elbo -127.896560669. KL 8.29942989349\n",
            "Iteration 320. Elbo -130.98664856. KL 8.4574213028\n",
            "Iteration 330. Elbo -107.724006653. KL 8.59646511078\n",
            "Iteration 340. Elbo -96.2202224731. KL 8.7516078949\n",
            "Iteration 350. Elbo -99.8892974854. KL 8.88774490356\n",
            "Iteration 360. Elbo -110.625091553. KL 9.02900981903\n",
            "Iteration 370. Elbo -110.705986023. KL 9.16001415253\n",
            "Iteration 380. Elbo -118.763916016. KL 9.29595279694\n",
            "Iteration 390. Elbo -101.959465027. KL 9.42527866364\n",
            "Iteration 400. Elbo -108.359840393. KL 9.55098152161\n",
            "Iteration 410. Elbo -94.4869918823. KL 9.68084907532\n",
            "Iteration 420. Elbo -88.2326431274. KL 9.8120470047\n",
            "Iteration 430. Elbo -104.121643066. KL 9.92966651917\n",
            "Iteration 440. Elbo -112.153770447. KL 10.0524768829\n",
            "Iteration 450. Elbo -102.999305725. KL 10.1651391983\n",
            "Iteration 460. Elbo -110.671699524. KL 10.2773513794\n",
            "Iteration 470. Elbo -99.833732605. KL 10.3971281052\n",
            "Iteration 480. Elbo -101.300125122. KL 10.5014190674\n",
            "Iteration 490. Elbo -106.583534241. KL 10.6122703552\n",
            "Iteration 500. Elbo -100.561035156. KL 10.7189235687\n",
            "Iteration 510. Elbo -99.5090408325. KL 10.8257017136\n",
            "Iteration 520. Elbo -94.6386489868. KL 10.9309864044\n",
            "Iteration 530. Elbo -92.851524353. KL 11.0329875946\n",
            "Iteration 540. Elbo -83.7906646729. KL 11.1409406662\n",
            "Iteration 550. Elbo -100.541503906. KL 11.242099762\n",
            "Iteration 560. Elbo -84.2009353638. KL 11.3463287354\n",
            "Iteration 570. Elbo -99.4818344116. KL 11.4444103241\n",
            "Iteration 580. Elbo -87.810798645. KL 11.5469789505\n",
            "Iteration 590. Elbo -90.5667190552. KL 11.6429700851\n",
            "Iteration 600. Elbo -89.6919326782. KL 11.7347326279\n",
            "Iteration 610. Elbo -89.1579208374. KL 11.8316688538\n",
            "Iteration 620. Elbo -95.3815689087. KL 11.924328804\n",
            "Iteration 630. Elbo -97.5506820679. KL 12.0179824829\n",
            "Iteration 640. Elbo -89.58984375. KL 12.1033706665\n",
            "Iteration 650. Elbo -87.0892181396. KL 12.1903495789\n",
            "Iteration 660. Elbo -83.8239746094. KL 12.2757358551\n",
            "Iteration 670. Elbo -98.5659866333. KL 12.3601484299\n",
            "Iteration 680. Elbo -85.6225814819. KL 12.454410553\n",
            "Iteration 690. Elbo -85.4044265747. KL 12.5378456116\n",
            "Iteration 700. Elbo -81.7902679443. KL 12.6191778183\n",
            "Iteration 710. Elbo -90.9003829956. KL 12.701210022\n",
            "Iteration 720. Elbo -86.0762786865. KL 12.7857275009\n",
            "Iteration 730. Elbo -81.9525756836. KL 12.8606281281\n",
            "Iteration 740. Elbo -82.8061523438. KL 12.9407939911\n",
            "Iteration 750. Elbo -75.7044754028. KL 13.014670372\n",
            "Iteration 760. Elbo -85.7485656738. KL 13.0864629745\n",
            "Iteration 770. Elbo -84.7195129395. KL 13.1637172699\n",
            "Iteration 780. Elbo -81.5038986206. KL 13.2388887405\n",
            "Iteration 790. Elbo -91.4418334961. KL 13.305138588\n",
            "Iteration 800. Elbo -91.3380737305. KL 13.378786087\n",
            "Iteration 810. Elbo -79.8998031616. KL 13.4527482986\n",
            "Iteration 820. Elbo -82.5501861572. KL 13.5232639313\n",
            "Iteration 830. Elbo -73.904045105. KL 13.5923223495\n",
            "Iteration 840. Elbo -94.8883132935. KL 13.6631288528\n",
            "Iteration 850. Elbo -82.671081543. KL 13.7367839813\n",
            "Iteration 860. Elbo -89.1314620972. KL 13.8053359985\n",
            "Iteration 870. Elbo -89.9466018677. KL 13.8741493225\n",
            "Iteration 880. Elbo -72.7582550049. KL 13.9450321198\n",
            "Iteration 890. Elbo -86.2754516602. KL 14.0125989914\n",
            "Iteration 900. Elbo -75.2065505981. KL 14.0771455765\n",
            "Iteration 910. Elbo -76.9281082153. KL 14.1364145279\n",
            "Iteration 920. Elbo -76.7940979004. KL 14.2024030685\n",
            "Iteration 930. Elbo -71.4757919312. KL 14.2663583755\n",
            "Iteration 940. Elbo -78.8379974365. KL 14.3307580948\n",
            "Iteration 950. Elbo -69.5632553101. KL 14.3894805908\n",
            "Iteration 960. Elbo -84.2538375854. KL 14.4518518448\n",
            "Iteration 970. Elbo -93.6064071655. KL 14.5128087997\n",
            "Iteration 980. Elbo -83.2115631104. KL 14.5737915039\n",
            "Iteration 990. Elbo -82.0588302612. KL 14.636089325\n"
          ],
          "name": "stdout"
        }
      ]
    },
    {
      "cell_type": "code",
      "metadata": {
        "id": "4Tbpa02jv_Dv",
        "colab_type": "code",
        "outputId": "162b201d-d7a8-4d6e-f7fa-3be94d436302",
        "colab": {
          "base_uri": "https://localhost:8080/",
          "height": 388
        }
      },
      "source": [
        "fig, axes = plt.subplots(1, 3, figsize=(3*8,5))\n",
        "\n",
        "axes[0].plot(reparam_elbos, label='ELBO')\n",
        "axes[0].set_title('Time', fontsize=15)\n",
        "axes[0].set_ylim((-500, -50))\n",
        "axes[0].legend()\n",
        "\n",
        "axes[1].plot(reparam_kls, label='KL')\n",
        "axes[1].set_title('Time', fontsize=15)\n",
        "axes[1].legend()\n",
        "\n",
        "axes[2].plot(reparam_accuracies, label='Accuracy')\n",
        "axes[2].set_title('Time', fontsize=15)\n",
        "axes[2].legend()"
      ],
      "execution_count": 0,
      "outputs": [
        {
          "output_type": "execute_result",
          "data": {
            "text/plain": [
              "<matplotlib.legend.Legend at 0x7fa3fa93ce90>"
            ]
          },
          "metadata": {
            "tags": []
          },
          "execution_count": 66
        },
        {
          "output_type": "display_data",
          "data": {
            "image/png": "[encoded data removed]",
            "text/plain": [
              "<Figure size 1728x360 with 3 Axes>"
            ]
          },
          "metadata": {
            "tags": []
          }
        }
      ]
    },
    {
      "cell_type": "markdown",
      "metadata": {
        "id": "qo-9zFbt5kii",
        "colab_type": "text"
      },
      "source": [
        "## Training the model via reinforce"
      ]
    },
    {
      "cell_type": "code",
      "metadata": {
        "id": "nVSL5MhtSZj7",
        "colab_type": "code",
        "colab": {}
      },
      "source": [
        "# Important: the multiplication has to be done elementwise. \n",
        "# We have to train the model using a surrogate loss.\n",
        "# Since TensorFlow does automatic differentation, we have to use \n",
        "# stop_gradient on the loss, as well as the samples!\n",
        "per_sample_reinforce_loss =  - posterior.log_prob(tf.stop_gradient(posterior_samples)) * tf.stop_gradient(param_log_probs)\n",
        "reinforce_loss = tf.reduce_mean(per_sample_reinforce_loss) + kl"
      ],
      "execution_count": 0,
      "outputs": []
    },
    {
      "cell_type": "code",
      "metadata": {
        "colab_type": "code",
        "id": "WO4jbPvdTMd5",
        "colab": {}
      },
      "source": [
        "optimizer = tf.train.GradientDescentOptimizer(0.0001)\n",
        "reinforce_min_op = optimizer.minimize(reinforce_loss)"
      ],
      "execution_count": 0,
      "outputs": []
    },
    {
      "cell_type": "code",
      "metadata": {
        "colab_type": "code",
        "id": "GWpybmi6TMeD",
        "colab": {}
      },
      "source": [
        "NUM_ITERATIONS = 1000"
      ],
      "execution_count": 0,
      "outputs": []
    },
    {
      "cell_type": "code",
      "metadata": {
        "colab_type": "code",
        "outputId": "d658ce25-9ce2-4512-ce49-75c69b17a6dc",
        "id": "smLiPL7kTMeO",
        "colab": {
          "base_uri": "https://localhost:8080/",
          "height": 1000
        }
      },
      "source": [
        "reinforce_accuracies = []\n",
        "reinforce_kls = []\n",
        "reinforce_elbos = []\n",
        "\n",
        "sess = tf.Session()\n",
        "\n",
        "# Initialize all variables\n",
        "sess.run(tf.initialize_all_variables())\n",
        "\n",
        "for i in xrange(NUM_ITERATIONS):\n",
        "  sess.run(reinforce_min_op)\n",
        "\n",
        "  if i % 10 == 0:\n",
        "    reinforce_acc, reinforce_kl, reinforce_elbo = sess.run([accuracy, kl, elbo])\n",
        "    reinforce_accuracies += [reinforce_acc]\n",
        "    reinforce_kls += [reinforce_kl]\n",
        "    reinforce_elbos += [reinforce_elbo]\n",
        "\n",
        "    print('Iteration {}. Elbo {}. KL {}'.format(\n",
        "        i, reinforce_elbo, reinforce_kl))\n",
        "\n",
        "reinforce_learned_mean, reinforce_learned_log_scale = sess.run(learned_vars)"
      ],
      "execution_count": 0,
      "outputs": [
        {
          "output_type": "stream",
          "text": [
            "Iteration 0. Elbo -1231.48754883. KL 0.0220593810081\n",
            "Iteration 10. Elbo -808.592407227. KL 0.338543713093\n",
            "Iteration 20. Elbo -524.581542969. KL 0.909575939178\n",
            "Iteration 30. Elbo -379.652740479. KL 1.41321325302\n",
            "Iteration 40. Elbo -301.671539307. KL 1.8704212904\n",
            "Iteration 50. Elbo -279.019744873. KL 2.25260615349\n",
            "Iteration 60. Elbo -287.911437988. KL 2.66793394089\n",
            "Iteration 70. Elbo -248.627319336. KL 3.03274250031\n",
            "Iteration 80. Elbo -274.209838867. KL 3.39950537682\n",
            "Iteration 90. Elbo -238.783615112. KL 3.7056684494\n",
            "Iteration 100. Elbo -180.144882202. KL 4.10226154327\n",
            "Iteration 110. Elbo -216.213302612. KL 4.40311670303\n",
            "Iteration 120. Elbo -183.531951904. KL 4.69419574738\n",
            "Iteration 130. Elbo -186.911499023. KL 4.96079969406\n",
            "Iteration 140. Elbo -173.515960693. KL 5.19095230103\n",
            "Iteration 150. Elbo -157.491165161. KL 5.43379211426\n",
            "Iteration 160. Elbo -158.108306885. KL 5.6262254715\n",
            "Iteration 170. Elbo -163.221206665. KL 5.8356795311\n",
            "Iteration 180. Elbo -146.565139771. KL 6.06200742722\n",
            "Iteration 190. Elbo -190.070983887. KL 6.17145061493\n",
            "Iteration 200. Elbo -153.055160522. KL 6.33472442627\n",
            "Iteration 210. Elbo -161.657592773. KL 6.56980705261\n",
            "Iteration 220. Elbo -116.549758911. KL 6.77828407288\n",
            "Iteration 230. Elbo -125.225143433. KL 7.03187656403\n",
            "Iteration 240. Elbo -147.91607666. KL 7.22355747223\n",
            "Iteration 250. Elbo -133.264282227. KL 7.41294574738\n",
            "Iteration 260. Elbo -126.578613281. KL 7.57341766357\n",
            "Iteration 270. Elbo -119.080780029. KL 7.75994729996\n",
            "Iteration 280. Elbo -109.886116028. KL 7.95444965363\n",
            "Iteration 290. Elbo -121.945098877. KL 8.08462715149\n",
            "Iteration 300. Elbo -124.018943787. KL 8.18129253387\n",
            "Iteration 310. Elbo -106.144706726. KL 8.37997722626\n",
            "Iteration 320. Elbo -121.718406677. KL 8.57028007507\n",
            "Iteration 330. Elbo -125.367019653. KL 8.72685909271\n",
            "Iteration 340. Elbo -118.693809509. KL 8.87324142456\n",
            "Iteration 350. Elbo -101.319114685. KL 9.01533222198\n",
            "Iteration 360. Elbo -114.103240967. KL 9.16397762299\n",
            "Iteration 370. Elbo -91.875869751. KL 9.27885913849\n",
            "Iteration 380. Elbo -114.098571777. KL 9.42788505554\n",
            "Iteration 390. Elbo -114.865745544. KL 9.54022693634\n",
            "Iteration 400. Elbo -94.1702957153. KL 9.65817832947\n",
            "Iteration 410. Elbo -109.974090576. KL 9.79271125793\n",
            "Iteration 420. Elbo -109.752044678. KL 9.85466575623\n",
            "Iteration 430. Elbo -110.549911499. KL 10.0302639008\n",
            "Iteration 440. Elbo -108.423713684. KL 10.163107872\n",
            "Iteration 450. Elbo -80.6597824097. KL 10.3107624054\n",
            "Iteration 460. Elbo -103.389984131. KL 10.4190883636\n",
            "Iteration 470. Elbo -101.75. KL 10.5393753052\n",
            "Iteration 480. Elbo -112.833908081. KL 10.6717405319\n",
            "Iteration 490. Elbo -94.2823638916. KL 10.7516059875\n",
            "Iteration 500. Elbo -102.636833191. KL 10.8633699417\n",
            "Iteration 510. Elbo -90.9130401611. KL 10.9743413925\n",
            "Iteration 520. Elbo -76.0304870605. KL 11.0320749283\n",
            "Iteration 530. Elbo -102.61164856. KL 11.130033493\n",
            "Iteration 540. Elbo -97.4822235107. KL 11.2614850998\n",
            "Iteration 550. Elbo -80.1745529175. KL 11.3975610733\n",
            "Iteration 560. Elbo -92.6554031372. KL 11.5362567902\n",
            "Iteration 570. Elbo -87.7685241699. KL 11.6449260712\n",
            "Iteration 580. Elbo -113.672859192. KL 11.7816791534\n",
            "Iteration 590. Elbo -89.4435577393. KL 11.870429039\n",
            "Iteration 600. Elbo -98.1239089966. KL 11.971988678\n",
            "Iteration 610. Elbo -86.9800796509. KL 12.0661430359\n",
            "Iteration 620. Elbo -105.8777771. KL 12.1732368469\n",
            "Iteration 630. Elbo -90.7897491455. KL 12.2917041779\n",
            "Iteration 640. Elbo -94.3220977783. KL 12.3896751404\n",
            "Iteration 650. Elbo -88.0863800049. KL 12.4850358963\n",
            "Iteration 660. Elbo -84.8598632812. KL 12.6095962524\n",
            "Iteration 670. Elbo -90.5580291748. KL 12.6718521118\n",
            "Iteration 680. Elbo -79.3591690063. KL 12.7729558945\n",
            "Iteration 690. Elbo -90.6020584106. KL 12.8668231964\n",
            "Iteration 700. Elbo -80.9606170654. KL 12.9421491623\n",
            "Iteration 710. Elbo -98.1525802612. KL 13.0128526688\n",
            "Iteration 720. Elbo -89.2859802246. KL 13.1471347809\n",
            "Iteration 730. Elbo -84.0707321167. KL 13.1970977783\n",
            "Iteration 740. Elbo -89.5597915649. KL 13.2572488785\n",
            "Iteration 750. Elbo -99.1416320801. KL 13.3330011368\n",
            "Iteration 760. Elbo -92.910118103. KL 13.4171209335\n",
            "Iteration 770. Elbo -76.833732605. KL 13.5153656006\n",
            "Iteration 780. Elbo -77.1132965088. KL 13.5576887131\n",
            "Iteration 790. Elbo -93.1914291382. KL 13.6402273178\n",
            "Iteration 800. Elbo -88.9732894897. KL 13.7351942062\n",
            "Iteration 810. Elbo -101.056121826. KL 13.8010444641\n",
            "Iteration 820. Elbo -99.5751037598. KL 13.8656616211\n",
            "Iteration 830. Elbo -91.9339675903. KL 13.9571743011\n",
            "Iteration 840. Elbo -70.7454147339. KL 14.0105953217\n",
            "Iteration 850. Elbo -91.7919006348. KL 14.0381126404\n",
            "Iteration 860. Elbo -82.0033187866. KL 14.1070785522\n",
            "Iteration 870. Elbo -81.9294433594. KL 14.1275062561\n",
            "Iteration 880. Elbo -103.577262878. KL 14.1831588745\n",
            "Iteration 890. Elbo -88.1100387573. KL 14.2206459045\n",
            "Iteration 900. Elbo -95.5690231323. KL 14.2572431564\n",
            "Iteration 910. Elbo -68.3534698486. KL 14.3253746033\n",
            "Iteration 920. Elbo -86.1409835815. KL 14.3638477325\n",
            "Iteration 930. Elbo -76.2172088623. KL 14.3877239227\n",
            "Iteration 940. Elbo -67.9566345215. KL 14.4778957367\n",
            "Iteration 950. Elbo -78.4613800049. KL 14.5488395691\n",
            "Iteration 960. Elbo -76.8335723877. KL 14.587480545\n",
            "Iteration 970. Elbo -75.7317123413. KL 14.6351766586\n",
            "Iteration 980. Elbo -85.0177459717. KL 14.7029514313\n",
            "Iteration 990. Elbo -96.061920166. KL 14.7556276321\n"
          ],
          "name": "stdout"
        }
      ]
    },
    {
      "cell_type": "code",
      "metadata": {
        "id": "seGE32mI8s1r",
        "colab_type": "code",
        "outputId": "55a6f697-de11-451d-cd7f-3805f30cdff9",
        "colab": {
          "base_uri": "https://localhost:8080/",
          "height": 388
        }
      },
      "source": [
        "fig, axes = plt.subplots(1, 3, figsize=(3*8,5))\n",
        "\n",
        "axes[0].plot(reinforce_elbos, label='ELBO')\n",
        "axes[0].set_title('Time', fontsize=15)\n",
        "axes[0].set_ylim((-500, -50))\n",
        "axes[0].legend()\n",
        "\n",
        "axes[1].plot(reinforce_kls, label='KL')\n",
        "axes[1].set_title('Time', fontsize=15)\n",
        "axes[1].legend()\n",
        "\n",
        "axes[2].plot(reinforce_accuracies, label='Accuracy')\n",
        "axes[2].set_title('Time', fontsize=15)\n",
        "axes[2].legend()"
      ],
      "execution_count": 0,
      "outputs": [
        {
          "output_type": "execute_result",
          "data": {
            "text/plain": [
              "<matplotlib.legend.Legend at 0x7fa3fa596f90>"
            ]
          },
          "metadata": {
            "tags": []
          },
          "execution_count": 71
        },
        {
          "output_type": "display_data",
          "data": {
            "image/png": "[encoded data removed]",
            "text/plain": [
              "<Figure size 1728x360 with 3 Axes>"
            ]
          },
          "metadata": {
            "tags": []
          }
        }
      ]
    },
    {
      "cell_type": "markdown",
      "metadata": {
        "id": "OQJ0iFv-6Xa-",
        "colab_type": "text"
      },
      "source": [
        "## Analysis\n",
        "\n",
        "* How sensitive are the different estimators to the number of posterior samples used? Try 1, 10, 100.\n",
        "* How sensitive are the different estimators to the learning rate used? Try 1e-4, 1e-3 and 1e-2 for both estimators.\n",
        "* How sensitive are the different estimators to batch size? Try batch size 10 for both estimators.\n",
        "\n",
        "# Answer\n",
        "* Reparametriztion less sensitive to changes in posterior samples, learning rates, batch size."
      ]
    },
    {
      "cell_type": "markdown",
      "metadata": {
        "id": "kCcTNQsO5tE1",
        "colab_type": "text"
      },
      "source": [
        "# Visualize learned parameters\n",
        "\n",
        "* Let's visualize the learned parameters, as well as check the different uncertanties around different parameters\n",
        "* Can we now see which parameters are most important in the classification problem?"
      ]
    },
    {
      "cell_type": "code",
      "metadata": {
        "id": "VDHFNDkj7SPz",
        "colab_type": "code",
        "colab": {}
      },
      "source": [
        "learned_mean = reparam_learned_mean\n",
        "learned_scale = np.exp(reparam_learned_log_scale)"
      ],
      "execution_count": 0,
      "outputs": []
    },
    {
      "cell_type": "code",
      "metadata": {
        "id": "R5WoqVaZ9vGX",
        "colab_type": "code",
        "colab": {}
      },
      "source": [
        "PARAM_INDEX = 19"
      ],
      "execution_count": 0,
      "outputs": []
    },
    {
      "cell_type": "code",
      "metadata": {
        "id": "5wlSrBlz9Eeg",
        "colab_type": "code",
        "colab": {}
      },
      "source": [
        "def gaussian(x, mu, sig):\n",
        "    return np.exp(-np.power(x - mu, 2.) / (2 * np.power(sig, 2.)))"
      ],
      "execution_count": 0,
      "outputs": []
    },
    {
      "cell_type": "code",
      "metadata": {
        "id": "wxXoXzGo9FHV",
        "colab_type": "code",
        "outputId": "7796ded6-47e3-4683-f98f-721de900b331",
        "colab": {
          "base_uri": "https://localhost:8080/",
          "height": 375
        }
      },
      "source": [
        "mean = learned_mean[PARAM_INDEX]\n",
        "scale = learned_scale[PARAM_INDEX]\n",
        "x_values = np.linspace(-3, 3, num=1000)\n",
        "y_values = [gaussian(x, mean, scale) for x in x_values]\n",
        "\n",
        "plt.figure(figsize=(7,5))\n",
        "plt.plot(x_values, y_values)\n",
        "plt.vlines(\n",
        "      learned_mean[PARAM_INDEX], \n",
        "      ymin=0, \n",
        "      ymax=gaussian(mean, mean, scale),\n",
        "      colors='g',\n",
        "      alpha=0.8)\n",
        "\n",
        "x_std_values = np.linspace(mean - scale, mean + scale, num=1000)\n",
        "y_std_values = [gaussian(x, mean, scale) for x in x_std_values]\n",
        "plt.fill_between(x_std_values, y_std_values, 0, alpha=0.3, color='b')\n",
        "\n",
        "plt.title('Parameter name= {}'.format(feature_names[PARAM_INDEX]))"
      ],
      "execution_count": 0,
      "outputs": [
        {
          "output_type": "execute_result",
          "data": {
            "text/plain": [
              "Text(0.5,1,'Parameter name= fractal dimension error')"
            ]
          },
          "metadata": {
            "tags": []
          },
          "execution_count": 75
        },
        {
          "output_type": "display_data",
          "data": {
            "image/png": "[encoded data removed]",
            "text/plain": [
              "<Figure size 504x360 with 1 Axes>"
            ]
          },
          "metadata": {
            "tags": []
          }
        }
      ]
    },
    {
      "cell_type": "markdown",
      "metadata": {
        "id": "gksr5bG06AQT",
        "colab_type": "text"
      },
      "source": [
        "## Visualize gradient variance - which estimator has lower variance?\n",
        "\n",
        "* Let's assess the gradient variance per of each estimator, by looking at how much gradients vary for each estimators. "
      ]
    },
    {
      "cell_type": "code",
      "metadata": {
        "id": "fUc9PsoXAAui",
        "colab_type": "code",
        "colab": {}
      },
      "source": [
        "def per_batch_grads(ys, xs):\n",
        "  \"\"\"Computes the gradients of ys[i] wrt xs.\"\"\"\n",
        "  grads = []\n",
        "\n",
        "  for y in tf.unstack(ys, axis=0):\n",
        "    grads.append(tf.squeeze(tf.gradients(y, xs)[0]))\n",
        "  return tf.stack(grads, axis=0)"
      ],
      "execution_count": 0,
      "outputs": []
    },
    {
      "cell_type": "code",
      "metadata": {
        "id": "HQ93_xwrA-OZ",
        "colab_type": "code",
        "colab": {}
      },
      "source": [
        "def compute_grad_var(grads, param_index):\n",
        "  return np.mean(grads[:, param_index]), np.std(grads[:, param_index])**2"
      ],
      "execution_count": 0,
      "outputs": []
    },
    {
      "cell_type": "code",
      "metadata": {
        "id": "_ee7sAMBAP7V",
        "colab_type": "code",
        "outputId": "9b37e4cc-00d4-4658-d659-9afa9a78d356",
        "colab": {
          "base_uri": "https://localhost:8080/",
          "height": 35
        }
      },
      "source": [
        "per_batch_reinforce_grads = per_batch_grads(per_sample_reinforce_loss, learned_vars[0])\n",
        "per_batch_reinforce_grads.shape"
      ],
      "execution_count": 0,
      "outputs": [
        {
          "output_type": "execute_result",
          "data": {
            "text/plain": [
              "TensorShape([Dimension(100), Dimension(31)])"
            ]
          },
          "metadata": {
            "tags": []
          },
          "execution_count": 78
        }
      ]
    },
    {
      "cell_type": "code",
      "metadata": {
        "id": "Fqjku6G5EmUR",
        "colab_type": "code",
        "outputId": "670bee34-3fb2-44ae-bb1d-6bbfbc4c0306",
        "colab": {
          "base_uri": "https://localhost:8080/",
          "height": 35
        }
      },
      "source": [
        "per_batch_reparam_grads = per_batch_grads(per_sample_reparametrization_loss, learned_vars[0])\n",
        "per_batch_reparam_grads.shape"
      ],
      "execution_count": 0,
      "outputs": [
        {
          "output_type": "execute_result",
          "data": {
            "text/plain": [
              "TensorShape([Dimension(100), Dimension(31)])"
            ]
          },
          "metadata": {
            "tags": []
          },
          "execution_count": 79
        }
      ]
    },
    {
      "cell_type": "code",
      "metadata": {
        "id": "uC5LrYVYAj66",
        "colab_type": "code",
        "colab": {}
      },
      "source": [
        "reinforce_grads = []\n",
        "\n",
        "sess = tf.Session()\n",
        "\n",
        "# Initialize all variables\n",
        "sess.run(tf.initialize_all_variables())\n",
        "\n",
        "for i in xrange(NUM_ITERATIONS):\n",
        "  sess.run(reinforce_min_op)\n",
        "\n",
        "  if i % 10 == 0:\n",
        "    reinforce_grads.append(sess.run(per_batch_reinforce_grads))"
      ],
      "execution_count": 0,
      "outputs": []
    },
    {
      "cell_type": "code",
      "metadata": {
        "id": "fifRpABRF5j4",
        "colab_type": "code",
        "colab": {}
      },
      "source": [
        "reparam_grads = []\n",
        "\n",
        "sess = tf.Session()\n",
        "\n",
        "# Initialize all variables\n",
        "sess.run(tf.initialize_all_variables())\n",
        "\n",
        "for i in xrange(NUM_ITERATIONS):\n",
        "  sess.run(reparam_min_op)\n",
        "\n",
        "  if i % 10 == 0:\n",
        "    reparam_grads.append(sess.run(per_batch_reparam_grads))"
      ],
      "execution_count": 0,
      "outputs": []
    },
    {
      "cell_type": "code",
      "metadata": {
        "id": "77PN9dRaCxF0",
        "colab_type": "code",
        "colab": {}
      },
      "source": [
        "PARAM_INDEX = 19"
      ],
      "execution_count": 0,
      "outputs": []
    },
    {
      "cell_type": "code",
      "metadata": {
        "id": "NXj7oslkBu9j",
        "colab_type": "code",
        "colab": {}
      },
      "source": [
        "reinforce_grad_vars = []\n",
        "for timestep_grad in reinforce_grads:\n",
        "  _, reinforce_grad_var = compute_grad_var(timestep_grad, PARAM_INDEX)\n",
        "  reinforce_grad_vars.append(reinforce_grad_var)"
      ],
      "execution_count": 0,
      "outputs": []
    },
    {
      "cell_type": "code",
      "metadata": {
        "id": "emEg7lOMGnSa",
        "colab_type": "code",
        "colab": {}
      },
      "source": [
        "reparam_grad_vars = []\n",
        "for timestep_grad in reparam_grads:\n",
        "  _, reparam_grad_var = compute_grad_var(timestep_grad, PARAM_INDEX)\n",
        "  reparam_grad_vars.append(reparam_grad_var)"
      ],
      "execution_count": 0,
      "outputs": []
    },
    {
      "cell_type": "code",
      "metadata": {
        "id": "wPsGH7elC0gH",
        "colab_type": "code",
        "outputId": "3a6a1913-7617-429f-9b30-b926985f82c1",
        "colab": {
          "base_uri": "https://localhost:8080/",
          "height": 384
        }
      },
      "source": [
        "plt.figure(figsize=(7,5))\n",
        "plt.plot(reinforce_grad_vars, label='reinforce')\n",
        "plt.plot(reparam_grad_vars, label='reparametrization')\n",
        "plt.yscale('log')\n",
        "plt.xlabel('It')\n",
        "plt.ylabel('Gradient variance')\n",
        "plt.legend()"
      ],
      "execution_count": 0,
      "outputs": [
        {
          "output_type": "execute_result",
          "data": {
            "text/plain": [
              "<matplotlib.legend.Legend at 0x7fa3ebec5f90>"
            ]
          },
          "metadata": {
            "tags": []
          },
          "execution_count": 85
        },
        {
          "output_type": "display_data",
          "data": {
            "image/png": "[encoded data removed]",
            "text/plain": [
              "<Figure size 504x360 with 1 Axes>"
            ]
          },
          "metadata": {
            "tags": []
          }
        }
      ]
    },
    {
      "cell_type": "markdown",
      "metadata": {
        "id": "OYfwIlI1Guoa",
        "colab_type": "text"
      },
      "source": [
        "### Analysis\n",
        "\n",
        "* What do you notice about gradient variance as training progresses?\n",
        "* What do you notice about the variance of the different estimators?\n",
        "* How do batch size and number of posterior samples affect the variance of the different estimators?\n",
        "* How does gradient variance affect convergence?\n",
        "* Which gradient estimator would you use in practice for this problem?\n",
        "\n",
        "\n",
        "# Answer \n",
        " * Gradient variance goes down as training progresses regardless of estimator.\n",
        " * Reinforce = bad. \n",
        " * Higher batch size and number of samples = lower variance.\n",
        " * Learning rate: lower learning rate is a way to counter balance high gradient variance.\n",
        " * Unless you reduce learning rates in training, you might oscilate too much, which slows down learning.\n",
        " * Reparametrization. "
      ]
    }
  ]
}